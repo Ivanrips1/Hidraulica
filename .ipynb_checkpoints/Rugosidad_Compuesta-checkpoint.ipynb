{
 "cells": [
  {
   "cell_type": "markdown",
   "metadata": {
    "collapsed": true,
    "pycharm": {
     "is_executing": true
    }
   },
   "source": [
    "# 1. ECUACIÓN DE MANNING"
   ]
  },
  {
   "cell_type": "markdown",
   "metadata": {},
   "source": [
    "La ecuación de Manning se usa para calcular la velocidad promedio del flujo de agua considerandolo como permanente y uniforme. Para poder usar está ecuación necesitamos información del canal hidráulico asi como su rugosidad."
   ]
  },
  {
   "cell_type": "markdown",
   "metadata": {},
   "source": [
    "\\begin{equation} V = \\frac{1}{n}R_h^\\frac{3}{2}S^\\frac{1}{2} \\tag{1}\\end{equation}"
   ]
  },
  {
   "cell_type": "markdown",
   "metadata": {},
   "source": [
    "Donde:"
   ]
  },
  {
   "cell_type": "markdown",
   "metadata": {},
   "source": [
    "$V$, es la velocidad promedio del flujp [$m/s$]  \n",
    "$n$, es la rugosidad de Manning [$m^\\frac{-1}{3} s$]  \n",
    "$R_h$, es el radio hidráulico [$m$]  \n",
    "$S$, es la pendiente del canal []"
   ]
  },
  {
   "cell_type": "markdown",
   "metadata": {},
   "source": [
    "Si multiplicamos a cada lado de la ecuación (1) por el área A tendremos la siguiente expresión:"
   ]
  },
  {
   "cell_type": "markdown",
   "metadata": {},
   "source": [
    "\\begin{equation} A.V = \\frac{A}{n}R_h^\\frac{3}{2}S^\\frac{1}{2} \\tag{2}\\end{equation}"
   ]
  },
  {
   "cell_type": "markdown",
   "metadata": {},
   "source": [
    "\\begin{equation} Q = \\frac{A}{n}R_h^\\frac{3}{2}S^\\frac{1}{2} \\tag{3}\\end{equation}"
   ]
  },
  {
   "cell_type": "markdown",
   "metadata": {},
   "source": [
    "Donde $Q$ es el caudal del flujo."
   ]
  },
  {
   "cell_type": "code",
   "execution_count": 33,
   "metadata": {},
   "outputs": [
    {
     "name": "stdout",
     "output_type": "stream",
     "text": [
      "Rugosidad = 0.014\n",
      "Pendiente = 0.001\n",
      "Area = 1\n",
      "Perímetro Mojado = 2\n",
      "Velocidad =  0.7985957062499249 [m/s]\n"
     ]
    }
   ],
   "source": [
    "#Calculo de la velocidad usando la ecuación de Manning\n",
    "n = float(input('Rugosidad = '))\n",
    "S = float(input('Pendiente = '))\n",
    "A = float(input('Area = '))\n",
    "T = float(input('Perímetro Mojado = '))\n",
    "Vel = (((A/T)**1.5)*S**0.5)/n\n",
    "print('Velocidad = ', Vel, '[m/s]')"
   ]
  },
  {
   "cell_type": "markdown",
   "metadata": {},
   "source": [
    "## 1.2. Rugosidad Compuesta"
   ]
  },
  {
   "cell_type": "markdown",
   "metadata": {},
   "source": [
    "En caso un canal presente diferentes materiales en su sección, entonces debemos calcular la rugosidad compuesta. Para este calculo podemos usar las siguientes ecuaciones:"
   ]
  },
  {
   "cell_type": "markdown",
   "metadata": {},
   "source": [
    "### 1.2.1. Ecuación de Horton y Einstein"
   ]
  },
  {
   "cell_type": "markdown",
   "metadata": {},
   "source": [
    "\\begin{equation} n = \\left( \\frac{p_1n_1^\\frac{3}{2}+ p_2n_2^\\frac{3}{2}+...+p_kn_k^\\frac{3}{2}}{p} \\right)^\\frac{2}{3} \\tag{4} \\end{equation}"
   ]
  },
  {
   "cell_type": "markdown",
   "metadata": {},
   "source": [
    "Donde:"
   ]
  },
  {
   "cell_type": "markdown",
   "metadata": {},
   "source": [
    "$n$, es la rugosidad compuesta  \n",
    "$n_1$, es la rugosidad del material 1  \n",
    "$n_2$, es la rugosidad del material 2  \n",
    "$n_k$, es la rugosidad del material k  \n",
    "$p$, es el perímetro mojado total  \n",
    "$p_1$, es el perímetro mojado total del lado 1  \n",
    "$p_2$, es el perímetro mojado total del lado 2  \n",
    "$p_k$, es el perímetro mojado total del lado k"
   ]
  },
  {
   "cell_type": "markdown",
   "metadata": {},
   "source": [
    "<center><img src=\"./imagenes/horton.jpg\" width=\"400\"/> </center>"
   ]
  },
  {
   "cell_type": "code",
   "execution_count": 32,
   "metadata": {},
   "outputs": [
    {
     "name": "stdout",
     "output_type": "stream",
     "text": [
      "Ingrese la cantidad de materiales del canal = 3\n",
      "Rugosidad 1 = 0.014\n",
      "Perímetro Mojado 1 = 1\n",
      "Rugosidad 2 = 0.012\n",
      "Perímetro Mojado 2 = 2\n",
      "Rugosidad 3 = 0.015\n",
      "Perímetro Mojado 3 = 1\n",
      "Perímetro Total =  4\n",
      "Rugosidad Compuesta =  0.013281733289487882\n"
     ]
    }
   ],
   "source": [
    "#Calculo para hallar la rugosidad compuesta en la sección de un canal mediante la ecuación Horton-Einstein\n",
    "#Ingreso de datos\n",
    "n = int(input('Ingrese la cantidad de materiales del canal = '))\n",
    "Rugosidad = []\n",
    "PerimetroM = []\n",
    "for i in range(1, n+1):\n",
    "    Rugosidad.append(float(input(f\"Rugosidad {i} = \")))\n",
    "    PerimetroM.append(int(input(f\"Perímetro Mojado {i} = \")))\n",
    "PerimetroTotal=sum(PerimetroM)\n",
    "print('Perímetro Total = ', PerimetroTotal)\n",
    "\n",
    "#Realizamos la operación dela ecuación 4\n",
    "Suma = []\n",
    "for j in range(0,n):\n",
    "    Suma.append(PerimetroM[j]*Rugosidad[j]**1.5) \n",
    "Suma = sum(Suma)\n",
    "RugComp = (Suma/PerimetroTotal)**(2/3)\n",
    "print('Rugosidad Compuesta = ', RugComp)\n",
    "    "
   ]
  },
  {
   "cell_type": "markdown",
   "metadata": {},
   "source": [
    "### 1.2.2. Fórmula de Pavlosvki"
   ]
  },
  {
   "cell_type": "markdown",
   "metadata": {},
   "source": [
    "\\begin{equation} n = \\frac{pR^{5/3}}{\\frac{p_1R_1^{5/3}}{n_1}+\\frac{p_2R_2^{5/3}}{n_2}+ ... + \\frac{p_kR_k^{5/3}}{n_k}} \\tag{5}\\end{equation}"
   ]
  },
  {
   "cell_type": "markdown",
   "metadata": {},
   "source": [
    "<center><img src=\"./imagenes/horton.jpg\" width=\"400\"/> </center>"
   ]
  },
  {
   "cell_type": "markdown",
   "metadata": {},
   "source": [
    "Donde:  "
   ]
  },
  {
   "cell_type": "markdown",
   "metadata": {},
   "source": [
    "$n$, es la rugosidad compuesta  \n",
    "$n_1$, es la rugosidad del material 1  \n",
    "$n_2$, es la rugosidad del material 2  \n",
    "$n_k$, es la rugosidad del material k  \n",
    "$p$, es el perímetro mojado total  \n",
    "$p_1$, es el perímetro mojado total del lado 1  \n",
    "$p_2$, es el perímetro mojado total del lado 2  \n",
    "$p_k$, es el perímetro mojado total del lado k"
   ]
  },
  {
   "cell_type": "code",
   "execution_count": 36,
   "metadata": {},
   "outputs": [
    {
     "name": "stdout",
     "output_type": "stream",
     "text": [
      "Ingrese la cantidad de materiales del canal = 3\n",
      "Rugosidad 1 = 0.014\n",
      "Perímetro Mojado 1 = 1\n",
      "Rugosidad 2 = 0.012\n",
      "Perímetro Mojado 2 = 2\n",
      "Rugosidad 3 = 0.015\n",
      "Perímetro Mojado 3 = 1\n",
      "Perímetro Total =  4\n",
      "Rugosidad Compuesta =  0.013313526955694347\n"
     ]
    }
   ],
   "source": [
    "#Calculo para hallar la rugosidad compuesta en la sección de un canal mediante la ecuación Pavlosvki\n",
    "n = int(input('Ingrese la cantidad de materiales del canal = '))\n",
    "Rugosidad = []\n",
    "PerimetroM = []\n",
    "for i in range(1, n+1):\n",
    "    Rugosidad.append(float(input(f\"Rugosidad {i} = \")))\n",
    "    PerimetroM.append(int(input(f\"Perímetro Mojado {i} = \")))\n",
    "PerimetroTotal=sum(PerimetroM)\n",
    "print('Perímetro Total = ', PerimetroTotal)\n",
    "\n",
    "#Realizamos la operación dela ecuación 5\n",
    "Suma = []\n",
    "for j in range(0,n):\n",
    "    Suma.append(PerimetroM[j]*Rugosidad[j]**2) \n",
    "Suma = sum(Suma)\n",
    "RugComp = (Suma/PerimetroTotal)**0.5\n",
    "print('Rugosidad Compuesta = ', RugComp)"
   ]
  },
  {
   "cell_type": "markdown",
   "metadata": {},
   "source": []
  }
 ],
 "metadata": {
  "kernelspec": {
   "display_name": "Python 3 (ipykernel)",
   "language": "python",
   "name": "python3"
  },
  "language_info": {
   "codemirror_mode": {
    "name": "ipython",
    "version": 3
   },
   "file_extension": ".py",
   "mimetype": "text/x-python",
   "name": "python",
   "nbconvert_exporter": "python",
   "pygments_lexer": "ipython3",
   "version": "3.10.9"
  }
 },
 "nbformat": 4,
 "nbformat_minor": 1
}
