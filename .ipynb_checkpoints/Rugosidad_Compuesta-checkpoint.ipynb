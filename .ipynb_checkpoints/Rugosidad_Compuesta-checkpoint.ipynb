{
 "cells": [
  {
   "cell_type": "markdown",
   "metadata": {
    "collapsed": true,
    "pycharm": {
     "is_executing": true
    }
   },
   "source": [
    "# 1. ECUACIÓN DE MANNING"
   ]
  },
  {
   "cell_type": "markdown",
   "metadata": {},
   "source": [
    "La ecuación de Manning se usa para calcular la velocidad promedio del flujo de agua siempre  permanente y uniforme. Para poder usar está ecuación necesitamos información del canal hidráulico asi como su rugosidad."
   ]
  },
  {
   "cell_type": "markdown",
   "metadata": {},
   "source": [
    "\\begin{equation} V = \\frac{1}{n}R_h^\\frac{3}{2}S^\\frac{1}{2} \\tag{1}\\end{equation}"
   ]
  },
  {
   "cell_type": "markdown",
   "metadata": {},
   "source": [
    "Donde:"
   ]
  },
  {
   "cell_type": "markdown",
   "metadata": {},
   "source": [
    "$V$, es la velocidad promedio del flujp [$m/s$]  \n",
    "$n$, es la rugosidad de Manning [$m^\\frac{-1}{3} s$]  \n",
    "$R_h$, es el radio hidráulico [$m$]  \n",
    "$S$, es la pendiente del canal []"
   ]
  },
  {
   "cell_type": "markdown",
   "metadata": {},
   "source": [
    "Si multiplicamos a cada lado de la ecuación (1) por el área A tendremos la siguiente expresión:"
   ]
  },
  {
   "cell_type": "markdown",
   "metadata": {},
   "source": [
    "\\begin{equation} A.V = \\frac{A}{n}R_h^\\frac{3}{2}S^\\frac{1}{2} \\tag{2}\\end{equation}"
   ]
  },
  {
   "cell_type": "markdown",
   "metadata": {},
   "source": [
    "\\begin{equation} Q = \\frac{A}{n}R_h^\\frac{3}{2}S^\\frac{1}{2} \\tag{3}\\end{equation}"
   ]
  },
  {
   "cell_type": "markdown",
   "metadata": {},
   "source": [
    "Donde $Q$ es el caudal del flujo."
   ]
  },
  {
   "cell_type": "code",
   "execution_count": 65,
   "metadata": {},
   "outputs": [
    {
     "name": "stdout",
     "output_type": "stream",
     "text": [
      "Rugosidad = 0.014\n",
      "Pendiente = 0.0012\n",
      "Area = 2.40\n",
      "Perímetro Mojado = 4.40\n",
      "Velocidad =  1.651841213196293 [m/s]\n",
      "Caudal =  3.964418911671103 [m^3/s]\n"
     ]
    }
   ],
   "source": [
    "#Calculo de la velocidad y caudal usando la ecuación de Manning\n",
    "n = float(input('Rugosidad = '))\n",
    "S = float(input('Pendiente = '))\n",
    "A = float(input('Area = '))\n",
    "T = float(input('Perímetro Mojado = '))\n",
    "Vel = (((A/T)**(2/3))*S**0.5)/n\n",
    "Q = A*Vel\n",
    "print('Velocidad = ', Vel, '[m/s]')\n",
    "print('Caudal = ', Q, '[m^3/s]')"
   ]
  },
  {
   "cell_type": "markdown",
   "metadata": {},
   "source": [
    "## 1.2. Rugosidad Compuesta"
   ]
  },
  {
   "cell_type": "markdown",
   "metadata": {},
   "source": [
    "En caso un canal presente diferentes materiales en su sección, entonces debemos calcular la rugosidad compuesta. Para este calculo podemos usar las siguientes ecuaciones:"
   ]
  },
  {
   "cell_type": "markdown",
   "metadata": {},
   "source": [
    "### 1.2.1. Ecuación de Horton y Einstein"
   ]
  },
  {
   "cell_type": "markdown",
   "metadata": {},
   "source": [
    "\\begin{equation} n = \\left( \\frac{p_1n_1^\\frac{3}{2}+ p_2n_2^\\frac{3}{2}+...+p_kn_k^\\frac{3}{2}}{p} \\right)^\\frac{2}{3} \\tag{4} \\end{equation}"
   ]
  },
  {
   "cell_type": "markdown",
   "metadata": {},
   "source": [
    "Donde:"
   ]
  },
  {
   "cell_type": "markdown",
   "metadata": {},
   "source": [
    "$n$, es la rugosidad compuesta  \n",
    "$n_1$, es la rugosidad del material 1  \n",
    "$n_2$, es la rugosidad del material 2  \n",
    "$n_k$, es la rugosidad del material k  \n",
    "$p$, es el perímetro mojado total  \n",
    "$p_1$, es el perímetro mojado total del lado 1  \n",
    "$p_2$, es el perímetro mojado total del lado 2  \n",
    "$p_k$, es el perímetro mojado total del lado k"
   ]
  },
  {
   "cell_type": "markdown",
   "metadata": {},
   "source": [
    "<center><img src=\"./imagenes/horton.jpg\" width=\"400\"/> </center>"
   ]
  },
  {
   "cell_type": "code",
   "execution_count": 40,
   "metadata": {},
   "outputs": [
    {
     "name": "stdout",
     "output_type": "stream",
     "text": [
      "Ingrese la cantidad de materiales del canal = 3\n",
      "Rugosidad 1 = 0.014\n",
      "Perímetro Mojado 1 = 1\n",
      "Rugosidad 2 = 0.012\n",
      "Perímetro Mojado 2 = 2\n",
      "Rugosidad 3 = 0.015\n",
      "Perímetro Mojado 3 = 1\n",
      "Perímetro Total =  4\n",
      "Rugosidad Compuesta =  0.013281733289487882\n"
     ]
    }
   ],
   "source": [
    "#Calculo para hallar la rugosidad compuesta en la sección de un canal mediante la ecuación Horton-Einstein\n",
    "#Ingreso de datos\n",
    "n = int(input('Ingrese la cantidad de materiales del canal = '))\n",
    "Rugosidad = []\n",
    "PerimetroM = []\n",
    "for i in range(1, n+1):\n",
    "    Rugosidad.append(float(input(f\"Rugosidad {i} = \")))\n",
    "    PerimetroM.append(int(input(f\"Perímetro Mojado {i} = \")))\n",
    "PerimetroTotal=sum(PerimetroM)\n",
    "print('Perímetro Total = ', PerimetroTotal)\n",
    "\n",
    "#Realizamos la operación dela ecuación 4\n",
    "Suma = []\n",
    "for j in range(0,n):\n",
    "    Suma.append(PerimetroM[j]*Rugosidad[j]**1.5) \n",
    "Suma = sum(Suma)\n",
    "RugComp = (Suma/PerimetroTotal)**(2/3)\n",
    "print('Rugosidad Compuesta = ', RugComp)\n"
   ]
  },
  {
   "cell_type": "markdown",
   "metadata": {},
   "source": [
    "### 1.2.2. Fórmula de Pavlosvki"
   ]
  },
  {
   "cell_type": "markdown",
   "metadata": {},
   "source": [
    "\\begin{equation} n = \\frac{pR^{5/3}}{\\frac{p_1R_1^{5/3}}{n_1}+\\frac{p_2R_2^{5/3}}{n_2}+ ... + \\frac{p_kR_k^{5/3}}{n_k}} \\tag{5}\\end{equation}"
   ]
  },
  {
   "cell_type": "markdown",
   "metadata": {},
   "source": [
    "<center><img src=\"./imagenes/horton.jpg\" width=\"400\"/> </center>"
   ]
  },
  {
   "cell_type": "markdown",
   "metadata": {},
   "source": [
    "Donde:  "
   ]
  },
  {
   "cell_type": "markdown",
   "metadata": {},
   "source": [
    "$n$, es la rugosidad compuesta  \n",
    "$n_1$, es la rugosidad del material 1  \n",
    "$n_2$, es la rugosidad del material 2  \n",
    "$n_k$, es la rugosidad del material k  \n",
    "$p$, es el perímetro mojado total  \n",
    "$p_1$, es el perímetro mojado total del lado 1  \n",
    "$p_2$, es el perímetro mojado total del lado 2  \n",
    "$p_k$, es el perímetro mojado total del lado k"
   ]
  },
  {
   "cell_type": "code",
   "execution_count": 36,
   "metadata": {},
   "outputs": [
    {
     "name": "stdout",
     "output_type": "stream",
     "text": [
      "Ingrese la cantidad de materiales del canal = 3\n",
      "Rugosidad 1 = 0.014\n",
      "Perímetro Mojado 1 = 1\n",
      "Rugosidad 2 = 0.012\n",
      "Perímetro Mojado 2 = 2\n",
      "Rugosidad 3 = 0.015\n",
      "Perímetro Mojado 3 = 1\n",
      "Perímetro Total =  4\n",
      "Rugosidad Compuesta =  0.013313526955694347\n"
     ]
    }
   ],
   "source": [
    "#Calculo para hallar la rugosidad compuesta en la sección de un canal mediante la ecuación Pavlosvki\n",
    "n = int(input('Ingrese la cantidad de materiales del canal = '))\n",
    "Rugosidad = []\n",
    "PerimetroM = []\n",
    "for i in range(1, n+1):\n",
    "    Rugosidad.append(float(input(f\"Rugosidad {i} = \")))\n",
    "    PerimetroM.append(float(input(f\"Perímetro Mojado {i} = \")))\n",
    "PerimetroTotal=sum(PerimetroM)\n",
    "print('Perímetro Total = ', PerimetroTotal)\n",
    "\n",
    "#Realizamos la operación dela ecuación 5\n",
    "Suma = []\n",
    "for j in range(0,n):\n",
    "    Suma.append(PerimetroM[j]*Rugosidad[j]**2) \n",
    "Suma = sum(Suma)\n",
    "RugComp = (Suma/PerimetroTotal)**0.5\n",
    "print('Rugosidad Compuesta = ', RugComp)"
   ]
  },
  {
   "cell_type": "markdown",
   "metadata": {},
   "source": [
    "## 1.3. Sección Compuesta"
   ]
  },
  {
   "cell_type": "markdown",
   "metadata": {},
   "source": [
    "En algunos proyectos de construcción de canales o también en ríos, puede darse el caso que los materiales de una sección dada tengan diferentes rugosidades. A estos casos se les denomina sección compuesta. La fórmula para calcular la velocidad y caudal está basada en la ecuación (1). Tener presente que estas ecuaciones se usan para un flujo permanente y uniforme."
   ]
  },
  {
   "cell_type": "markdown",
   "metadata": {},
   "source": [
    "<center><img src=\"./imagenes/seccion compuesta.jpg\" width=\"1200\"/> </center>"
   ]
  },
  {
   "cell_type": "code",
   "execution_count": 66,
   "metadata": {},
   "outputs": [
    {
     "name": "stdout",
     "output_type": "stream",
     "text": [
      "Ingrese la cantidad de materiales del canal = 7\n",
      "Ingrese la pendiente del canal = 0.0008\n",
      "Rugosidad 1 = 0.010\n",
      "Perímetro Mojado 1 = 0.7071\n",
      "Área 1 = 0.125\n",
      "Rugosidad 2 = 0.015\n",
      "Perímetro Mojado 2 = 1\n",
      "Área 2 = 0.5\n",
      "Rugosidad 3 = 0.022\n",
      "Perímetro Mojado 3 = 0.7071\n",
      "Área 3 = 0.375\n",
      "Rugosidad 4 = 0.030\n",
      "Perímetro Mojado 4 = 1\n",
      "Área 4 = 1\n",
      "Rugosidad 5 = 0.022\n",
      "Perímetro Mojado 5 = 0.7071\n",
      "Área 5 = 0.375\n",
      "Rugosidad 6 = 0.015\n",
      "Perímetro Mojado 6 = 1\n",
      "Área 6 = 0.5\n",
      "Rugosidad 7 = 0.010\n",
      "Perímetro Mojado 7 = 0.7071\n",
      "Área 7 = 0.125\n",
      "Perímetro Total =  5.828399999999999\n",
      "Area Total =  3.0\n",
      "Rugosidad Compuesta =  0.018695813918864167\n",
      "Velocidad =  0.9950525939946733 [m/s]\n",
      "Caudal =  2.98515778198402 [m^3/s]\n",
      "Caudal (Rugosidad Compuesta) =  2.98515778198402 [m^3/s]\n"
     ]
    }
   ],
   "source": [
    "#Calcular Velocidad del flujo en una sección del canal\n",
    "#Ingreso de datos\n",
    "import numpy as np\n",
    "n = int(input('Ingrese la cantidad de materiales del canal = '))\n",
    "S = float(input('Ingrese la pendiente del canal = '))\n",
    "Rugosidad = []\n",
    "PerimetroM = []\n",
    "Area = []\n",
    "for i in range(1, n+1):\n",
    "    Rugosidad.append(float(input(f\"Rugosidad {i} = \")))\n",
    "    PerimetroM.append(float(input(f\"Perímetro Mojado {i} = \")))\n",
    "    Area.append(float(input(f\"Área {i} = \")))\n",
    "Rugosidad = np.array(Rugosidad)\n",
    "Area = np.array(Area)\n",
    "Rh = Area/PerimetroM\n",
    "PerimetroTotal=sum(PerimetroM)\n",
    "print('Perímetro Total = ', PerimetroTotal)\n",
    "AreaTotal = sum(Area)\n",
    "print('Area Total = ', AreaTotal)\n",
    "\n",
    "#Realizamos la operación de la ecuación 4\n",
    "Suma = []\n",
    "for j in range(0,n):\n",
    "    Suma.append(PerimetroM[j]*Rugosidad[j]**1.5) \n",
    "Suma = sum(Suma)\n",
    "RugComp = (Suma/PerimetroTotal)**(2/3)\n",
    "print('Rugosidad Compuesta = ', RugComp)\n",
    "\n",
    "K = Area*Rh**(2/3)/Rugosidad*S**0.5\n",
    "Ktotal = sum(K)\n",
    "Velocidad = Ktotal/AreaTotal\n",
    "print('Velocidad = ', Velocidad, '[m/s]')\n",
    "Q1 = Velocidad*AreaTotal\n",
    "print('Caudal = ', Q1, '[m^3/s]')\n",
    "\n",
    "#Usando la Rugosidad compuesta\n",
    "Q2 = (AreaTotal**(5/3)*S**(0.5))/(RugComp*PerimetroTotal**(2/3))\n",
    "print('Caudal (Rugosidad Compuesta) = ', Q1, '[m^3/s]')"
   ]
  },
  {
   "cell_type": "markdown",
   "metadata": {},
   "source": [
    "### 1.3.1. Ejercicio Propuesto"
   ]
  },
  {
   "cell_type": "markdown",
   "metadata": {},
   "source": [
    "Determinar el caudal que pasa por el canal de la figura adjunta, sabiendo que la pendiente es 0.08%. Utilizar para el cálculo, la rugosidad compuesta mediante la fórmula de Horton-Einstein."
   ]
  },
  {
   "cell_type": "markdown",
   "metadata": {},
   "source": [
    "<center><img src=\"./imagenes/ejercicio.jpg\" width=\"800\"/> </center>"
   ]
  },
  {
   "cell_type": "code",
   "execution_count": null,
   "metadata": {},
   "outputs": [],
   "source": []
  }
 ],
 "metadata": {
  "kernelspec": {
   "display_name": "Python 3 (ipykernel)",
   "language": "python",
   "name": "python3"
  },
  "language_info": {
   "codemirror_mode": {
    "name": "ipython",
    "version": 3
   },
   "file_extension": ".py",
   "mimetype": "text/x-python",
   "name": "python",
   "nbconvert_exporter": "python",
   "pygments_lexer": "ipython3",
   "version": "3.10.9"
  }
 },
 "nbformat": 4,
 "nbformat_minor": 1
}
