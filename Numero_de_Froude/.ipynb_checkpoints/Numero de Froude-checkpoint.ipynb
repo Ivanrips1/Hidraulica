{
 "cells": [
  {
   "cell_type": "markdown",
   "metadata": {},
   "source": [
    "# Número de Froude"
   ]
  },
  {
   "cell_type": "markdown",
   "metadata": {
    "pycharm": {
     "is_executing": true
    }
   },
   "source": [
    "El número de Froude es adimensional siendo un principio fundamental de la hidráulica de canales que relaciona las fuerzas inerciales y las fuerzas de gravedad. Su expresión esta dada por:"
   ]
  },
  {
   "cell_type": "markdown",
   "metadata": {},
   "source": [
    "\\begin{equation} F = \\frac{Fuerzas Inerciales}{Fuerzas de Gravedad} = \\frac{V}{\\sqrt{g.y_h}} = \\frac{V}{\\sqrt{g.\\frac{A}{T}}} \\tag{1} \\end{equation}"
   ]
  },
  {
   "cell_type": "markdown",
   "metadata": {},
   "source": [
    "Donde:"
   ]
  },
  {
   "cell_type": "markdown",
   "metadata": {},
   "source": [
    "$V$; es la velocidad promedio del flujo de agua [m/s]  \n",
    "$g$; es la gravedad [$m/s^2$]  \n",
    "$y_h$; es la profundidad hidráulica = A/T [m]  \n",
    "$A$; es el área del flujo de agua de la sección del canal [m^2]  \n",
    "$T$; es el espejo de agua [m]"
   ]
  },
  {
   "cell_type": "markdown",
   "metadata": {},
   "source": [
    "El número de Froude indica si un flujo es crítico, subcrítico o supercrítico y dependerá de su valor. Podemos guiarnos de las siguientes expresiones para cada caso:"
   ]
  },
  {
   "cell_type": "markdown",
   "metadata": {},
   "source": [
    "#### Flujo Crítico:"
   ]
  },
  {
   "cell_type": "markdown",
   "metadata": {},
   "source": [
    " \\begin{equation} F = \\frac{V}{\\sqrt{g.\\frac{A}{T}}} = 1 \\tag{1.1}\\end{equation}"
   ]
  },
  {
   "cell_type": "markdown",
   "metadata": {},
   "source": [
    "#### Flujo Subcrítico:"
   ]
  },
  {
   "cell_type": "markdown",
   "metadata": {},
   "source": [
    " \\begin{equation} F = \\frac{V}{\\sqrt{g.\\frac{A}{T}}} < 1 \\tag{1.2} \\end{equation}"
   ]
  },
  {
   "cell_type": "markdown",
   "metadata": {},
   "source": [
    "#### Flujo Supercrítico:"
   ]
  },
  {
   "cell_type": "markdown",
   "metadata": {},
   "source": [
    " \\begin{equation} F = \\frac{V}{\\sqrt{g.\\frac{A}{T}}} > 1 \\tag{1.3} \\end{equation}"
   ]
  },
  {
   "cell_type": "code",
   "execution_count": 22,
   "metadata": {},
   "outputs": [
    {
     "name": "stdout",
     "output_type": "stream",
     "text": [
      "Velocidad = 2\n",
      "g =  9.81\n",
      "Área = 4\n",
      "Espejo de Agua = 10\n",
      "Froude =  1.0096375546923044\n",
      "Flujo Supercrítico =  1.0096375546923044\n"
     ]
    }
   ],
   "source": [
    "#Cálculo del Número de Froude\n",
    "V = float(input('Velocidad = ')) #Velocidad en [m/s]\n",
    "g = float(9.81) #Gravedad [m/s^2]\n",
    "print('g = ', g) #Gravedad\n",
    "A = float(input('Área = ')) #Area de la seccion del flujo en el canal [m^2]\n",
    "T = float(input('Espejo de Agua = ')) #Superficie del canal de agua [m]\n",
    "F = V/(g*A/T)**0.5\n",
    "print('Froude = ', F)\n",
    "if F < 1:\n",
    "    print('Flujo Subcrítico = ', F)\n",
    "elif F == 1:\n",
    "    print('Flujo Crítico = ', F)\n",
    "elif F > 1:\n",
    "    print('Flujo Supercrítico = ', F)    "
   ]
  },
  {
   "cell_type": "code",
   "execution_count": null,
   "metadata": {},
   "outputs": [],
   "source": []
  }
 ],
 "metadata": {
  "kernelspec": {
   "display_name": "Python 3 (ipykernel)",
   "language": "python",
   "name": "python3"
  },
  "language_info": {
   "codemirror_mode": {
    "name": "ipython",
    "version": 3
   },
   "file_extension": ".py",
   "mimetype": "text/x-python",
   "name": "python",
   "nbconvert_exporter": "python",
   "pygments_lexer": "ipython3",
   "version": "3.10.9"
  }
 },
 "nbformat": 4,
 "nbformat_minor": 1
}
