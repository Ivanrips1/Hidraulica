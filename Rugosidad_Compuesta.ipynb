{
 "cells": [
  {
   "cell_type": "markdown",
   "metadata": {
    "collapsed": true,
    "pycharm": {
     "is_executing": true
    }
   },
   "source": [
    "# 1. ECUACIÓN DE MANNING"
   ]
  },
  {
   "cell_type": "markdown",
   "metadata": {},
   "source": [
    "La ecuación de Manning se usa para calcular la velocidad promedio del flujo de agua considerandolo como permanente y uniforme. Para poder usar está ecuación necesitamos información del canal hidráulico asi como su rugosidad."
   ]
  },
  {
   "cell_type": "markdown",
   "metadata": {},
   "source": [
    "\\begin{equation} V = \\frac{1}{n}R_h^\\frac{3}{2}S^\\frac{1}{2} \\tag{1}\\end{equation}"
   ]
  },
  {
   "cell_type": "markdown",
   "metadata": {},
   "source": [
    "Donde:"
   ]
  },
  {
   "cell_type": "markdown",
   "metadata": {},
   "source": [
    "$V$, es la velocidad promedio del flujp [$m/s$]  \n",
    "$n$, es la rugosidad de Manning [$m^\\frac{-1}{3} s$]  \n",
    "$R_h$, es el radio hidráulico [$m$]  \n",
    "$S$, es la pendiente del canal []"
   ]
  },
  {
   "cell_type": "markdown",
   "metadata": {},
   "source": [
    "Si multiplicamos a cada lado de la ecuación (1) por el área A tendremos la siguiente expresión:"
   ]
  },
  {
   "cell_type": "markdown",
   "metadata": {},
   "source": [
    "\\begin{equation} A.V = \\frac{A}{n}R_h^\\frac{3}{2}S^\\frac{1}{2} \\tag{2}\\end{equation}"
   ]
  },
  {
   "cell_type": "markdown",
   "metadata": {},
   "source": [
    "\\begin{equation} Q = \\frac{A}{n}R_h^\\frac{3}{2}S^\\frac{1}{2} \\tag{3}\\end{equation}"
   ]
  },
  {
   "cell_type": "markdown",
   "metadata": {},
   "source": [
    "Donde $Q$ es el caudal del flujo."
   ]
  },
  {
   "cell_type": "code",
   "execution_count": 5,
   "metadata": {},
   "outputs": [
    {
     "name": "stdout",
     "output_type": "stream",
     "text": [
      "Rugosidad = 0.014\n",
      "Pendiente = 0.0001\n",
      "Area = 2\n",
      "Perímetro Mojado = 3\n",
      "Velocidad =  0.38880789567986956 [m/s]\n"
     ]
    }
   ],
   "source": [
    "#Calculo de la velocidad usando la ecuación de Manning\n",
    "n = float(input('Rugosidad = '))\n",
    "S = float(input('Pendiente = '))\n",
    "A = float(input('Area = '))\n",
    "T = float(input('Perímetro Mojado = '))\n",
    "Vel = (((A/T)**1.5)*S**0.5)/n\n",
    "print('Velocidad = ', Vel, '[m/s]')"
   ]
  },
  {
   "cell_type": "markdown",
   "metadata": {},
   "source": [
    "## 1.2. Rugosidad Compuesta"
   ]
  },
  {
   "cell_type": "markdown",
   "metadata": {},
   "source": [
    "En caso un canal presente diferentes materiales en su sección, entonces debemos calcular la rugosidad compuesta. Para este calculo podemos usar las siguientes ecuaciones:"
   ]
  },
  {
   "cell_type": "markdown",
   "metadata": {},
   "source": [
    "### 1.2.1. Ecuación de Horton y Einstein"
   ]
  },
  {
   "cell_type": "code",
   "execution_count": 80,
   "metadata": {},
   "outputs": [
    {
     "name": "stdout",
     "output_type": "stream",
     "text": [
      "Ingrese la cantidad de materiales del canal = 2\n",
      "Rugosidad 1 = 0.014\n",
      "Perímetro Mojado 1 = 2\n",
      "Rugosidad 2 = 0.014\n",
      "Perímetro Mojado 2 = 2\n",
      "Rugosidad Compuesta =  0.014000000000000004\n"
     ]
    }
   ],
   "source": [
    "#Calculo para hallar la rugosidad compuesta en la sección de un canal\n",
    "n = int(input('Ingrese la cantidad de materiales del canal = '))\n",
    "for i in range(1, n+1):\n",
    "    Rugosidad = float(input(f\"Rugosidad {i} = \"))\n",
    "    PerimetroM = float(input(f\"Perímetro Mojado {i} = \"))\n",
    "RugComp = sum([(PerimetroM*Rugosidad**1.5)**(2/3)/sum([PerimetroM**(2/3)])])\n",
    "print('Rugosidad Compuesta = ', RugComp)\n",
    "    "
   ]
  },
  {
   "cell_type": "code",
   "execution_count": null,
   "metadata": {},
   "outputs": [],
   "source": []
  },
  {
   "cell_type": "code",
   "execution_count": null,
   "metadata": {},
   "outputs": [],
   "source": []
  }
 ],
 "metadata": {
  "kernelspec": {
   "display_name": "Python 3 (ipykernel)",
   "language": "python",
   "name": "python3"
  },
  "language_info": {
   "codemirror_mode": {
    "name": "ipython",
    "version": 3
   },
   "file_extension": ".py",
   "mimetype": "text/x-python",
   "name": "python",
   "nbconvert_exporter": "python",
   "pygments_lexer": "ipython3",
   "version": "3.10.9"
  }
 },
 "nbformat": 4,
 "nbformat_minor": 1
}
